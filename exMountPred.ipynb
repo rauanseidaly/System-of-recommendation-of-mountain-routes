{
 "cells": [
  {
   "cell_type": "code",
   "execution_count": 4,
   "id": "e49ca37f-025f-48d5-84ed-1c0e476a701b",
   "metadata": {},
   "outputs": [
    {
     "name": "stdout",
     "output_type": "stream",
     "text": [
      "   User_ID  P-LVL  M-LVL  Age  Gender Experience_Level  Route_Name  T-R (мин)  \\\n",
      "0        1      4      5   32    Male         Beginner    Чимбулак        166   \n",
      "1        2      3      3   41    Male         Advanced    Чимбулак        176   \n",
      "2        3      2      4   47    Male         Beginner  Кок-Жайляу         97   \n",
      "3        4      4      2   39  Female         Beginner    Фурманов        148   \n",
      "4        5      4      4   33  Female     Intermediate     Букреев         74   \n",
      "\n",
      "   AVG-T-R (мин)  Distance (км)  Elevation_Gain (м) Route_Difficulty  \\\n",
      "0            131          13.98                 321           Medium   \n",
      "1            159           7.14                 330             Hard   \n",
      "2            189           7.73                 476           Medium   \n",
      "3            108          12.87                 710             Hard   \n",
      "4            110          10.74                1467             Hard   \n",
      "\n",
      "  Weather_Conditions Preferred_Season  Group_Size  \n",
      "0              Sunny           Spring           3  \n",
      "1             Cloudy           Spring           5  \n",
      "2              Sunny           Autumn           1  \n",
      "3              Sunny           Spring           2  \n",
      "4             Cloudy           Autumn           1  \n"
     ]
    }
   ],
   "source": [
    "import pandas as pd\n",
    "import numpy as np\n",
    "import random\n",
    "\n",
    "# Задаем случайное зерно для воспроизводимости\n",
    "np.random.seed(42)\n",
    "\n",
    "# Списки возможных значений для категориальных данных\n",
    "genders = ['Male', 'Female']\n",
    "experience_levels = ['Beginner', 'Intermediate', 'Advanced']\n",
    "routes = ['Букреев', 'Фурманов', 'Панорама', 'Кок-Жайляу', 'Чимбулак']\n",
    "route_difficulties = ['Easy', 'Medium', 'Hard']\n",
    "weather_conditions = ['Sunny', 'Cloudy', 'Rainy', 'Snowy']\n",
    "seasons = ['Spring', 'Summer', 'Autumn', 'Winter']\n",
    "\n",
    "# Генерация данных для 25 пользователей\n",
    "data = []\n",
    "for user_id in range(1, 26):\n",
    "    p_lvl = np.random.randint(1, 6)  # уровень пользователя от 1 до 5\n",
    "    m_lvl = np.random.randint(1, 6)  # сложность пройденных маршрутов от 1 до 5\n",
    "    age = np.random.randint(18, 61)  # возраст от 18 до 60 лет\n",
    "    gender = random.choice(genders)\n",
    "    experience = random.choice(experience_levels)\n",
    "    route_name = random.choice(routes)\n",
    "    t_r = np.random.randint(60, 201)  # время прохождения маршрута (от 60 до 200 минут)\n",
    "    avg_t_r = np.random.randint(60, 200)  # среднее время прохождения\n",
    "    distance = np.random.uniform(5, 20)  # расстояние (от 5 до 20 км)\n",
    "    elevation_gain = np.random.randint(200, 1501)  # набор высоты (от 200 до 1500 м)\n",
    "    route_difficulty = random.choice(route_difficulties)\n",
    "    weather = random.choice(weather_conditions)\n",
    "    preferred_season = random.choice(seasons)\n",
    "    group_size = np.random.randint(1, 6)  # размер группы (от 1 до 5 человек)\n",
    "\n",
    "    data.append([\n",
    "        user_id, p_lvl, m_lvl, age, gender, experience, route_name,\n",
    "        t_r, avg_t_r, round(distance, 2), elevation_gain,\n",
    "        route_difficulty, weather, preferred_season, group_size\n",
    "    ])\n",
    "\n",
    "# Создаем DataFrame и сохраняем в CSV\n",
    "columns = [\n",
    "    'User_ID', 'P-LVL', 'M-LVL', 'Age', 'Gender', 'Experience_Level',\n",
    "    'Route_Name', 'T-R (мин)', 'AVG-T-R (мин)', 'Distance (км)', \n",
    "    'Elevation_Gain (м)', 'Route_Difficulty', 'Weather_Conditions',\n",
    "    'Preferred_Season', 'Group_Size'\n",
    "]\n",
    "\n",
    "df = pd.DataFrame(data, columns=columns)\n",
    "df.to_csv('Mountains.csv', index=False)\n",
    "\n",
    "# Выводим первые 5 строк для проверки\n",
    "print(df.head())\n"
   ]
  },
  {
   "cell_type": "code",
   "execution_count": 5,
   "id": "642ad8ff-fcf9-4ece-b301-b95e9980fb10",
   "metadata": {},
   "outputs": [
    {
     "name": "stdout",
     "output_type": "stream",
     "text": [
      "Рекомендуемые маршруты: Чимбулак, Кок-Жайляу, Букреев\n"
     ]
    },
    {
     "name": "stderr",
     "output_type": "stream",
     "text": [
      "/Users/rauan/Library/Python/3.9/lib/python/site-packages/sklearn/base.py:493: UserWarning: X does not have valid feature names, but NearestNeighbors was fitted with feature names\n",
      "  warnings.warn(\n"
     ]
    }
   ],
   "source": [
    "\n",
    "\n",
    "# 1. Загрузка данных\n",
    "df = pd.read_csv('Mountains.csv')\n",
    "\n",
    "# 2. Преобразование категориальных данных\n",
    "label_encoders = {}\n",
    "categorical_columns = ['Gender', 'Experience_Level', 'Route_Difficulty', 'Weather_Conditions', 'Preferred_Season']\n",
    "\n",
    "for col in categorical_columns:\n",
    "    le = LabelEncoder()\n",
    "    df[col] = le.fit_transform(df[col])\n",
    "    label_encoders[col] = le\n",
    "\n",
    "# 3. Подготовка признаков и меток\n",
    "features = ['P-LVL', 'M-LVL', 'Age', 'Gender', 'Experience_Level',\n",
    "            'Distance (км)', 'Elevation_Gain (м)', 'Route_Difficulty', \n",
    "            'Weather_Conditions', 'Group_Size']\n",
    "X = df[features]\n",
    "y = df['Route_Name']\n",
    "\n",
    "# 4. Настройка и обучение модели KNN\n",
    "model = NearestNeighbors(n_neighbors=3, algorithm='auto')\n",
    "model.fit(X)\n",
    "\n",
    "# 5. Функция для рекомендации маршрутов\n",
    "def recommend_route(user_data):\n",
    "    distances, indices = model.kneighbors([user_data])\n",
    "    recommended_routes = df.iloc[indices[0]]['Route_Name'].unique()\n",
    "    return recommended_routes\n",
    "\n",
    "# 6. Пример использования системы рекомендаций\n",
    "# Данные нового пользователя: \n",
    "# [P-LVL, M-LVL, Age, Gender, Experience_Level, Distance, Elevation Gain, Route Difficulty, Weather, Group Size]\n",
    "new_user = [3, 2, 30, 0, 1, 12, 500, 1, 0, 3]  # пример: мужчина (Male), Intermediate, 30 лет и т.д.\n",
    "\n",
    "# Получение рекомендаций\n",
    "recommendations = recommend_route(new_user)\n",
    "print(f\"Рекомендуемые маршруты: {', '.join(recommendations)}\")"
   ]
  }
 ],
 "metadata": {
  "kernelspec": {
   "display_name": "Python 3 (ipykernel)",
   "language": "python",
   "name": "python3"
  },
  "language_info": {
   "codemirror_mode": {
    "name": "ipython",
    "version": 3
   },
   "file_extension": ".py",
   "mimetype": "text/x-python",
   "name": "python",
   "nbconvert_exporter": "python",
   "pygments_lexer": "ipython3",
   "version": "3.9.6"
  }
 },
 "nbformat": 4,
 "nbformat_minor": 5
}
